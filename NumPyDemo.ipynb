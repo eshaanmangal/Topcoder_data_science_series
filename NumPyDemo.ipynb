{
 "cells": [
  {
   "cell_type": "code",
   "execution_count": null,
   "metadata": {},
   "outputs": [],
   "source": [
    "# Programmer: Johnny L. Hopkins\n",
    "# Date: July 27, 2019\n",
    "# NumPyDemo: Demostrating NumPy and SciPy via descriptive statistics"
   ]
  },
  {
   "cell_type": "code",
   "execution_count": 32,
   "metadata": {},
   "outputs": [],
   "source": [
    "# NumPy and SciPy work in tandem, so both libraries must be called when utilizing them in Python code\n",
    "import numpy as np\n",
    "from scipy import stats\n",
    "\n",
    "# We are interested in graphically describing our data sets, so we will call matplotlib\n",
    "import matplotlib\n",
    "import matplotlib.pyplot as plt\n",
    "\n",
    "# To display the graph in our notebook\n",
    "%matplotlib inline"
   ]
  },
  {
   "cell_type": "code",
   "execution_count": 37,
   "metadata": {},
   "outputs": [
    {
     "data": {
      "image/png": "[encoded data removed]",
      "text/plain": [
       "<Figure size 432x288 with 1 Axes>"
      ]
     },
     "metadata": {},
     "output_type": "display_data"
    },
    {
     "name": "stdout",
     "output_type": "stream",
     "text": [
      "Using NumPy, the mean is 51.888888888888886\n",
      "Using NumPy, the median of the set is 53.0\n",
      "Using SciPy, the mode of the data set is ModeResult(mode=array([50]), count=array([2]))\n",
      "Using NumPy, the range is 20\n",
      "Our variance using NumPy is 36.76543209876544\n",
      "The standard deviation utilizing NumPy is 6.063450510952113\n",
      "Using SciPy, the standard error of the mean is 2.143753486841638\n"
     ]
    }
   ],
   "source": [
    "# To use the capapbilities of NumPy, SciPy, and matploitlib, we first decalare a list of values\n",
    "# Lists are data structures which can be modified as needed\n",
    "# A later post will further explain lists\n",
    "data = [40, 45, 50, 50, 53, 54, 57, 58, 60]\n",
    "\n",
    "# We first create a histogram of our list using hist() from matplotlib\n",
    "# The histogram describes of list of values\n",
    "plt.hist(data, bins = 10, facecolor = 'blue', edgecolor = \"red\")\n",
    "plt.title(\"Histogram of Sample List\")\n",
    "plt.xlabel(\"Bin Values\")\n",
    "plt.ylabel(\"Y-Values\")\n",
    "\n",
    "# Output the histogram\n",
    "plt.show()\n",
    "\n",
    "# Find the mean of the list\n",
    "data_mean = np.mean(data)\n",
    "print(\"Using NumPy, the mean is\", data_mean)\n",
    "\n",
    "# Next, find the median of the list\n",
    "data_median = np.median(data)\n",
    "print(\"Using NumPy, the median of the set is\", data_median)\n",
    "\n",
    "# Then, we find the mode of the distribution\n",
    "# Since NumPy has no mode function, we use stats.mode from SciPy\n",
    "data_mode = stats.mode(data)\n",
    "print(\"Using SciPy, the mode of the data set is\", data_mode)\n",
    "\n",
    "# Now, we find the range of the distribution using NumPy once again\n",
    "# The np.ptp() calculates the range point-to-point.\n",
    "data_range = np.ptp(data)\n",
    "print(\"Using NumPy, the range is\", data_range)\n",
    "\n",
    "# NumPy also calculates the variance as shown here\n",
    "data_variance = np.var(data)\n",
    "print(\"Our variance using NumPy is\", data_variance)\n",
    "\n",
    "# The standard deviation is the square root of the variance\n",
    "# so, we use np.std()\n",
    "data_deviation = np.std(data)\n",
    "print(\"The standard deviation utilizing NumPy is\", data_deviation)\n",
    "\n",
    "# Finally we calculate the standard error of the mean.\n",
    "# Standard error of the mean is an important calculation, used in hypothesis testing\n",
    "# Once again, we must use SciPy as NumPy has no function for the standard error of the mean\n",
    "data_error = stats.sem(data)\n",
    "print(\"Using SciPy, the standard error of the mean is\", data_error)\n"
   ]
  },
  {
   "cell_type": "code",
   "execution_count": null,
   "metadata": {},
   "outputs": [],
   "source": []
  }
 ],
 "metadata": {
  "kernelspec": {
   "display_name": "Python 3",
   "language": "python",
   "name": "python3"
  },
  "language_info": {
   "codemirror_mode": {
    "name": "ipython",
    "version": 3
   },
   "file_extension": ".py",
   "mimetype": "text/x-python",
   "name": "python",
   "nbconvert_exporter": "python",
   "pygments_lexer": "ipython3",
   "version": "3.7.4"
  }
 },
 "nbformat": 4,
 "nbformat_minor": 2
}
