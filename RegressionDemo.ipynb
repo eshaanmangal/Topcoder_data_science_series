{
 "cells": [
  {
   "cell_type": "code",
   "execution_count": 1,
   "metadata": {},
   "outputs": [],
   "source": [
    "# Programmer: Johnny L. Hopkins\n",
    "# Date: August 5, 2019\n",
    "# Revised: August 6, 2019\n",
    "# Revised: August 7, 2019\n",
    "# RegressionDemo: Demostrating linear regression\n",
    "# using scikit-learn"
   ]
  },
  {
   "cell_type": "code",
   "execution_count": 2,
   "metadata": {},
   "outputs": [],
   "source": [
    "# To build our linear model and output our\n",
    "# predicted values, we have to import both\n",
    "# packages and classes for our analysis:\n",
    "\n",
    "# Import NumPy for our data arrays\n",
    "import numpy as np\n",
    "\n",
    "# Everything in scikit-learn is an estimator,\n",
    "# so, we import the LinearRegression class to\n",
    "# perform simple linear regression\n",
    "from sklearn.linear_model import LinearRegression\n",
    "\n",
    "# We also want to generate a scatterplot using our data\n",
    "# So, we import the matplotlib library and call \n",
    "# the scatter() function\n",
    "import matplotlib.pyplot as plt\n",
    "%matplotlib inline"
   ]
  },
  {
   "cell_type": "code",
   "execution_count": 3,
   "metadata": {},
   "outputs": [],
   "source": [
    "# First, we will create two \"dummy\" arrays\n",
    "# We call the reshape() function on our x value\n",
    "# to indicate that our data set is a 2D array\n",
    "x = np.array([0, 2, 4, 6, 8]).reshape((-1, 1))\n",
    "y = np.array([1, 3, 5, 7, 9])"
   ]
  },
  {
   "cell_type": "code",
   "execution_count": 4,
   "metadata": {},
   "outputs": [
    {
     "name": "stdout",
     "output_type": "stream",
     "text": [
      "Our intercept is: 0.9999999999999991\n",
      "Our slope is: [1.]\n",
      "Our predictions: [1. 3. 5. 7. 9.]\n"
     ]
    }
   ],
   "source": [
    "# Next, create a model based on our \n",
    "# dummy data set\n",
    "model = LinearRegression()\n",
    "model.fit(x, y)\n",
    "\n",
    "# Now, find the slope and intercept of the model\n",
    "print(\"Our intercept is:\", model.intercept_)\n",
    "print(\"Our slope is:\", model.coef_)\n",
    "\n",
    "# Finally, we obtain our predicted values\n",
    "prediction = model.predict(x)\n",
    "print(\"Our predictions:\", prediction)"
   ]
  },
  {
   "cell_type": "code",
   "execution_count": 5,
   "metadata": {},
   "outputs": [
    {
     "data": {
      "image/png": "[encoded data removed]",
      "text/plain": [
       "<Figure size 432x288 with 1 Axes>"
      ]
     },
     "metadata": {
      "needs_background": "light"
     },
     "output_type": "display_data"
    }
   ],
   "source": [
    "# Create a scatterplot of our dummy data set\n",
    "# and fit our regression line\n",
    "plt.scatter(x, y, alpha = 0.5)\n",
    "plt.show()"
   ]
  },
  {
   "cell_type": "code",
   "execution_count": null,
   "metadata": {},
   "outputs": [],
   "source": []
  }
 ],
 "metadata": {
  "kernelspec": {
   "display_name": "Python 3",
   "language": "python",
   "name": "python3"
  },
  "language_info": {
   "codemirror_mode": {
    "name": "ipython",
    "version": 3
   },
   "file_extension": ".py",
   "mimetype": "text/x-python",
   "name": "python",
   "nbconvert_exporter": "python",
   "pygments_lexer": "ipython3",
   "version": "3.7.2"
  }
 },
 "nbformat": 4,
 "nbformat_minor": 2
}
