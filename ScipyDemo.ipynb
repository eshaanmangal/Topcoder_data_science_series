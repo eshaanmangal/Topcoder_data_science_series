{
 "cells": [
  {
   "cell_type": "code",
   "execution_count": null,
   "metadata": {},
   "outputs": [],
   "source": [
    "# Programmer: Johnny L. Hopkins \n",
    "# Date: June 29, 2019\n",
    "# This notebook demonstrates descriptive statistics \n",
    "# using the SciPy library and its methods"
   ]
  },
  {
   "cell_type": "code",
   "execution_count": 3,
   "metadata": {},
   "outputs": [
    {
     "data": {
      "text/plain": [
       "DescribeResult(nobs=10, minmax=(0, 9), mean=4.5, variance=9.166666666666666, skewness=0.0, kurtosis=-1.2242424242424244)"
      ]
     },
     "execution_count": 3,
     "metadata": {},
     "output_type": "execute_result"
    }
   ],
   "source": [
    "# To use SciPy, import the library\n",
    "from scipy import stats\n",
    "\n",
    "# To use arange, we call the NumPy library\n",
    "import numpy as np\n",
    "\n",
    "# In the previous program we declared a list and \n",
    "# used the statistics module to calculate basic statistics \n",
    "# Using SciPy, we will first declare a random array of ten values\n",
    "# using the arange method from NumPy. \n",
    "x = np.arange(10)\n",
    "\n",
    "# SciPy has a global function which calculates\n",
    "# basic descriptive statistics, stats.describe().\n",
    "# When called, it will return the number of observations, \n",
    "# minimum and maximum values of the data set, mean, variance, \n",
    "# skewness, and kurtosis. Skewness and kurtosis refers to \n",
    "# the weight of the tails and general shape of the normal distribution \n",
    "stats.describe(x)\n",
    "\n",
    "\n",
    "\n",
    "\n"
   ]
  },
  {
   "cell_type": "code",
   "execution_count": null,
   "metadata": {},
   "outputs": [],
   "source": []
  }
 ],
 "metadata": {
  "kernelspec": {
   "display_name": "Python 3",
   "language": "python",
   "name": "python3"
  },
  "language_info": {
   "codemirror_mode": {
    "name": "ipython",
    "version": 3
   },
   "file_extension": ".py",
   "mimetype": "text/x-python",
   "name": "python",
   "nbconvert_exporter": "python",
   "pygments_lexer": "ipython3",
   "version": "3.7.2"
  }
 },
 "nbformat": 4,
 "nbformat_minor": 2
}
