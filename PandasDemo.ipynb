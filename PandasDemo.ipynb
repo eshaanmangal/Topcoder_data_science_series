{
 "cells": [
  {
   "cell_type": "code",
   "execution_count": 1,
   "metadata": {},
   "outputs": [],
   "source": [
    "# Programmer: Johnny L Hopkins \n",
    "# Date: June 30, 2019\n",
    "# Revised: June 1, 2019 \n",
    "# This program demonstrates the use of\n",
    "# Pandas to calculate descriptive statistics on\n",
    "# a data frame. "
   ]
  },
  {
   "cell_type": "code",
   "execution_count": 12,
   "metadata": {},
   "outputs": [
    {
     "name": "stdout",
     "output_type": "stream",
     "text": [
      "          Milage\n",
      "count   4.000000\n",
      "mean   44.575000\n",
      "std    15.884872\n",
      "min    25.900000\n",
      "25%    34.450000\n",
      "50%    45.900000\n",
      "75%    56.025000\n",
      "max    60.600000\n",
      "Milage    252.329167\n",
      "dtype: float64\n"
     ]
    },
    {
     "data": {
      "text/html": [
       "<div>\n",
       "<style scoped>\n",
       "    .dataframe tbody tr th:only-of-type {\n",
       "        vertical-align: middle;\n",
       "    }\n",
       "\n",
       "    .dataframe tbody tr th {\n",
       "        vertical-align: top;\n",
       "    }\n",
       "\n",
       "    .dataframe thead th {\n",
       "        text-align: right;\n",
       "    }\n",
       "</style>\n",
       "<table border=\"1\" class=\"dataframe\">\n",
       "  <thead>\n",
       "    <tr style=\"text-align: right;\">\n",
       "      <th></th>\n",
       "      <th>Milage</th>\n",
       "    </tr>\n",
       "  </thead>\n",
       "  <tbody>\n",
       "    <tr>\n",
       "      <th>0</th>\n",
       "      <td>37.3</td>\n",
       "    </tr>\n",
       "    <tr>\n",
       "      <th>1</th>\n",
       "      <td>54.5</td>\n",
       "    </tr>\n",
       "    <tr>\n",
       "      <th>2</th>\n",
       "      <td>60.6</td>\n",
       "    </tr>\n",
       "    <tr>\n",
       "      <th>3</th>\n",
       "      <td>25.9</td>\n",
       "    </tr>\n",
       "  </tbody>\n",
       "</table>\n",
       "</div>"
      ],
      "text/plain": [
       "   Milage\n",
       "0    37.3\n",
       "1    54.5\n",
       "2    60.6\n",
       "3    25.9"
      ]
     },
     "execution_count": 12,
     "metadata": {},
     "output_type": "execute_result"
    }
   ],
   "source": [
    "# To calculate stats on a data frame, \n",
    "# import Pandas as shown here\n",
    "import pandas as pd \n",
    "\n",
    "# Next, create the data frame\n",
    "data = {'Milage': [37.3, 54.5, 60.6, 25.9]}\n",
    "\n",
    "# To see how our data frame looks, \n",
    "# output the data in a table.The df declaration\n",
    "# is a placeholder to output the table. \n",
    "df = pd.DataFrame(data)\n",
    "\n",
    "# We now can start calculating descriptive statistics \n",
    "# on our Milage data frame. \n",
    "print(df.describe()) \n",
    "\n",
    "# The describe() method did not output the variance, \n",
    "# so we call the var() function. \n",
    "print(df.var())\n",
    "\n",
    "\n",
    "# Print out data frame\n",
    "df\n",
    "                  "
   ]
  },
  {
   "cell_type": "code",
   "execution_count": null,
   "metadata": {},
   "outputs": [],
   "source": []
  },
  {
   "cell_type": "code",
   "execution_count": null,
   "metadata": {},
   "outputs": [],
   "source": []
  }
 ],
 "metadata": {
  "kernelspec": {
   "display_name": "Python 3",
   "language": "python",
   "name": "python3"
  },
  "language_info": {
   "codemirror_mode": {
    "name": "ipython",
    "version": 3
   },
   "file_extension": ".py",
   "mimetype": "text/x-python",
   "name": "python",
   "nbconvert_exporter": "python",
   "pygments_lexer": "ipython3",
   "version": "3.7.2"
  }
 },
 "nbformat": 4,
 "nbformat_minor": 2
}
