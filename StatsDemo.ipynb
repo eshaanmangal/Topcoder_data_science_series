{
 "cells": [
  {
   "cell_type": "code",
   "execution_count": 1,
   "metadata": {},
   "outputs": [],
   "source": [
    "# Programmer: Johnny L. Hopkins\n",
    "# Date: June 27, 2019\n",
    "# Revised: June 29, 2019\n",
    "# describe.py: Demonstrates the statistics module\n",
    "# by calculating descriptive statistics"
   ]
  },
  {
   "cell_type": "code",
   "execution_count": 7,
   "metadata": {},
   "outputs": [
    {
     "name": "stdout",
     "output_type": "stream",
     "text": [
      "The mean is 61.75\n",
      "The median is 77.5\n",
      "The mode is 80\n",
      "The sample variance is 884.5\n",
      "The population variance is 773.9375\n",
      "The sample standard deviation is 29.740544715926102\n",
      "The population standard deviation is 27.819732205756402\n"
     ]
    }
   ],
   "source": [
    " # To use the statistics module, import into your program\n",
    "import statistics \n",
    "\n",
    "# The statistics module works on lists\n",
    "# Lists will be explained later in the series\n",
    "my_list = [25, 35, 75, 80, 80, 89, 90, 20]\n",
    "\n",
    "# First, we will find the mean\n",
    "my_list_mean = statistics.mean(my_list)\n",
    "\n",
    "# The print statement outputs input to the screen\n",
    "print(\"The mean is\", my_list_mean) \n",
    "\n",
    "# Next, we find the median\n",
    "# If the data set has an odd number of elements, \n",
    "# the median is the middle value of the list. \n",
    "# However, if the list has an even number of elements, \n",
    "# The median is computed by taking the two middle elements \n",
    "# and divide them by two. To simplify the process, order\n",
    "# the list elements from the smallest to the largest. \n",
    "my_list_median = statistics.median(my_list)\n",
    "print(\"The median is\", my_list_median) \n",
    "\n",
    "# The mode is the element that appears the most\n",
    "# in the list. Every list has at least one mode.\n",
    "# The example list has no mode, so statistics.mode()\n",
    "# should return a StatisticsError because the list\n",
    "# has equally common values. \n",
    "my_list_mode = statistics.mode(my_list)\n",
    "print(\"The mode is\", my_list_mode) \n",
    "\n",
    "# The variance measures the spread of a distribution \n",
    "# of data. There are two types of variance: The sample \n",
    "# and population variance. The sample variance is a measure \n",
    "# of a sample and the population variance looks at the spread of the \n",
    "# data for the population. The statistics module provides methods for\n",
    "# both the population and sample variance. \n",
    "my_list_svariance = statistics.variance(my_list) \n",
    "print(\"The sample variance is\", my_list_svariance) \n",
    "\n",
    "my_list_popvariance = statistics.pvariance(my_list) \n",
    "print(\"The population variance is\", my_list_popvariance) \n",
    "\n",
    "# The standard deviation is defined mathematically \n",
    "# as the square root of the variance. Specifically, it is \n",
    "# it quantifies the spread or dispersion of a distribution. \n",
    "# The statistics module provides methods for the population \n",
    "# sample standard deviation. \n",
    "my_list_sstdev = statistics.stdev(my_list)\n",
    "print(\"The sample standard deviation is\", my_list_sstdev) \n",
    "\n",
    "my_list_popstnd = statistics.pstdev(my_list) \n",
    "print(\"The population standard deviation is\", my_list_popstnd) \n",
    "\n",
    "\n",
    "\n"
   ]
  },
  {
   "cell_type": "code",
   "execution_count": null,
   "metadata": {},
   "outputs": [],
   "source": []
  }
 ],
 "metadata": {
  "kernelspec": {
   "display_name": "Python 3",
   "language": "python",
   "name": "python3"
  },
  "language_info": {
   "codemirror_mode": {
    "name": "ipython",
    "version": 3
   },
   "file_extension": ".py",
   "mimetype": "text/x-python",
   "name": "python",
   "nbconvert_exporter": "python",
   "pygments_lexer": "ipython3",
   "version": "3.7.2"
  }
 },
 "nbformat": 4,
 "nbformat_minor": 2
}
